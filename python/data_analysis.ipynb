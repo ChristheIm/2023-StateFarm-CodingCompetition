{
 "cells": [
  {
   "cell_type": "markdown",
   "metadata": {},
   "source": [
    "# Data Anaysis Section\n",
    "---\n",
    "This section is for \"Nice to Have\" purpose for 2023-StateFarm-CodingCompetition. <br>\n",
    "The purpose of this documentation is to find insight from given dataset and scrutinize it."
   ]
  },
  {
   "cell_type": "code",
   "execution_count": 2,
   "metadata": {},
   "outputs": [],
   "source": [
    "# Import libraries\n",
    "from simple_data_tool import SimpleDataTool\n",
    "import pandas as pd\n",
    "import numpy as np\n",
    "import matplotlib.pyplot as plt\n",
    "\n",
    "# Load data\n",
    "data = SimpleDataTool()"
   ]
  },
  {
   "cell_type": "markdown",
   "metadata": {},
   "source": [
    "### Data Load\n",
    "Import JSON dataset into DataFrame in order to work with Python Packages"
   ]
  },
  {
   "cell_type": "code",
   "execution_count": 15,
   "metadata": {},
   "outputs": [],
   "source": [
    "# Load Agent JSON data\n",
    "agents = pd.read_json(\"data/sfcc_2023_agents.json\")\n",
    "agents.set_index('id', inplace=True) # Set the 'id' column as the index\n",
    "df_agents = pd.json_normalize(agents.to_dict(orient='records')) # Normalize the 'profile' columns\n",
    "\n",
    "# Load Claim JSON data\n",
    "claims = pd.read_json(\"data/sfcc_2023_claims.json\")\n",
    "claims.set_index('id', inplace=True) # Set the 'id' column as the index\n",
    "df_claims = pd.json_normalize(claims.to_dict(orient='records')) # Normalize the 'profile' columns\n",
    "\n",
    "# Load Claim Handler JSON data\n",
    "claim_handlers = pd.read_json(\"data/sfcc_2023_claim_handlers.json\")\n",
    "claim_handlers.set_index('id', inplace=True) # Set the 'id' column as the index\n",
    "df_claim_handlers = pd.json_normalize(claim_handlers.to_dict(orient='records')) # Normalize the 'profile' columns\n",
    "\n",
    "# Load Disaster JSON data\n",
    "disasters = pd.read_json(\"data/sfcc_2023_disasters.json\")\n",
    "disasters.set_index('id', inplace=True) # Set the 'id' column as the index\n",
    "df_disasters = pd.json_normalize(disasters.to_dict(orient='records')) # Normalize the 'profile' columns"
   ]
  },
  {
   "cell_type": "code",
   "execution_count": null,
   "metadata": {},
   "outputs": [],
   "source": []
  },
  {
   "cell_type": "code",
   "execution_count": null,
   "metadata": {},
   "outputs": [],
   "source": []
  },
  {
   "cell_type": "code",
   "execution_count": null,
   "metadata": {},
   "outputs": [],
   "source": []
  },
  {
   "cell_type": "code",
   "execution_count": null,
   "metadata": {},
   "outputs": [],
   "source": []
  },
  {
   "cell_type": "code",
   "execution_count": null,
   "metadata": {},
   "outputs": [],
   "source": []
  }
 ],
 "metadata": {
  "kernelspec": {
   "display_name": "Python 3",
   "language": "python",
   "name": "python3"
  },
  "language_info": {
   "codemirror_mode": {
    "name": "ipython",
    "version": 3
   },
   "file_extension": ".py",
   "mimetype": "text/x-python",
   "name": "python",
   "nbconvert_exporter": "python",
   "pygments_lexer": "ipython3",
   "version": "3.10.9"
  }
 },
 "nbformat": 4,
 "nbformat_minor": 2
}
